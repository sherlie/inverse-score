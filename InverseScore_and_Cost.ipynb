{
 "cells": [
  {
   "cell_type": "code",
   "execution_count": 29,
   "metadata": {},
   "outputs": [],
   "source": [
    "import numpy as np\n",
    "import pandas as pd\n",
    "N = 5000\n",
    "mu = 0.5\n",
    "x = np.random.normal(mu, 1, N)\n",
    "label = np.random.rand(N) > 0.5\n",
    "x[label] -= mu*2\n",
    "\n",
    "import math\n",
    "label = np.array(list(map(lambda x: -mu if x else mu, label)))\n",
    "df = pd.DataFrame(list(zip(x, label)), columns = ['s', 'y']) \n",
    "df['p'] = 1 / (1 + math.e**(-(2)*df.s))\n",
    "df.head()"
   ]
  },
  {
   "cell_type": "code",
   "execution_count": 31,
   "metadata": {},
   "outputs": [
    {
     "data": {
      "text/plain": [
       "0.12624652022062763"
      ]
     },
     "execution_count": 31,
     "metadata": {},
     "output_type": "execute_result"
    }
   ],
   "source": [
    "MS = 0.0\n",
    "\n",
    "for index, row in df.iterrows():\n",
    "    s = row.p\n",
    "    if (row.y == -mu): #f0\n",
    "        if(s < 0.5):\n",
    "            MS += (2*s-1)/(2*(s-1)**2) + 0.5\n",
    "        else:\n",
    "            MS += -1/s + 2.5\n",
    "    else: #f1\n",
    "        if(s < 0.5):\n",
    "            MS += -1/(1-s) + 2.5\n",
    "        else:\n",
    "            MS += (1-2*s)/(2*s**2) + 0.5\n",
    "    \n",
    "MS = MS / N / 3 \n",
    "MS"
   ]
  },
  {
   "cell_type": "code",
   "execution_count": 32,
   "metadata": {},
   "outputs": [
    {
     "name": "stdout",
     "output_type": "stream",
     "text": [
      "0.12209914209057722\n"
     ]
    }
   ],
   "source": [
    "n = 100 #iterations\n",
    "\n",
    "total_cost = 0\n",
    "for i in range(0, n):\n",
    "    c0 = np.random.random()\n",
    "    c1 = np.random.random()  \n",
    "    c = c0/(c0+c1)\n",
    "    df['pred_y'] = (df.p > (1-c)).astype(int)*2*mu - mu\n",
    "    fp = df.loc[(df.y == mu) & (df.pred_y != mu)].shape[0]  \n",
    "    fn = df.loc[(df.y != mu) & (df.pred_y == mu)].shape[0] \n",
    "    total_cost += fp*c0 + fn*c1\n",
    "\n",
    "print(total_cost/n/N)"
   ]
  },
  {
   "cell_type": "code",
   "execution_count": null,
   "metadata": {},
   "outputs": [],
   "source": []
  }
 ],
 "metadata": {
  "kernelspec": {
   "display_name": "Python 3",
   "language": "python",
   "name": "python3"
  },
  "language_info": {
   "codemirror_mode": {
    "name": "ipython",
    "version": 3
   },
   "file_extension": ".py",
   "mimetype": "text/x-python",
   "name": "python",
   "nbconvert_exporter": "python",
   "pygments_lexer": "ipython3",
   "version": "3.6.4"
  }
 },
 "nbformat": 4,
 "nbformat_minor": 2
}
