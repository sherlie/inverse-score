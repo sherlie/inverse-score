{
 "cells": [
  {
   "cell_type": "code",
   "execution_count": 20,
   "metadata": {},
   "outputs": [],
   "source": [
    "import numpy as np\n",
    "import pandas as pd\n",
    "N = 3000\n",
    "mu = 2\n",
    "x = np.random.normal(mu, 1, N)\n",
    "label = np.random.rand(N) > 0.5\n",
    "x[label] -= mu*2"
   ]
  },
  {
   "cell_type": "code",
   "execution_count": 21,
   "metadata": {},
   "outputs": [
    {
     "data": {
      "text/html": [
       "<div>\n",
       "<style scoped>\n",
       "    .dataframe tbody tr th:only-of-type {\n",
       "        vertical-align: middle;\n",
       "    }\n",
       "\n",
       "    .dataframe tbody tr th {\n",
       "        vertical-align: top;\n",
       "    }\n",
       "\n",
       "    .dataframe thead th {\n",
       "        text-align: right;\n",
       "    }\n",
       "</style>\n",
       "<table border=\"1\" class=\"dataframe\">\n",
       "  <thead>\n",
       "    <tr style=\"text-align: right;\">\n",
       "      <th></th>\n",
       "      <th>s</th>\n",
       "      <th>y</th>\n",
       "      <th>p</th>\n",
       "    </tr>\n",
       "  </thead>\n",
       "  <tbody>\n",
       "    <tr>\n",
       "      <th>0</th>\n",
       "      <td>-2.948230</td>\n",
       "      <td>-2</td>\n",
       "      <td>0.000008</td>\n",
       "    </tr>\n",
       "    <tr>\n",
       "      <th>1</th>\n",
       "      <td>1.105514</td>\n",
       "      <td>2</td>\n",
       "      <td>0.988133</td>\n",
       "    </tr>\n",
       "    <tr>\n",
       "      <th>2</th>\n",
       "      <td>-2.868043</td>\n",
       "      <td>-2</td>\n",
       "      <td>0.000010</td>\n",
       "    </tr>\n",
       "    <tr>\n",
       "      <th>3</th>\n",
       "      <td>-2.861036</td>\n",
       "      <td>-2</td>\n",
       "      <td>0.000011</td>\n",
       "    </tr>\n",
       "    <tr>\n",
       "      <th>4</th>\n",
       "      <td>2.755937</td>\n",
       "      <td>2</td>\n",
       "      <td>0.999984</td>\n",
       "    </tr>\n",
       "  </tbody>\n",
       "</table>\n",
       "</div>"
      ],
      "text/plain": [
       "          s  y         p\n",
       "0 -2.948230 -2  0.000008\n",
       "1  1.105514  2  0.988133\n",
       "2 -2.868043 -2  0.000010\n",
       "3 -2.861036 -2  0.000011\n",
       "4  2.755937  2  0.999984"
      ]
     },
     "execution_count": 21,
     "metadata": {},
     "output_type": "execute_result"
    }
   ],
   "source": [
    "import math\n",
    "label = np.array(list(map(lambda x: -mu if x else mu, label)))\n",
    "df = pd.DataFrame(list(zip(x, label)), columns = ['s', 'y']) \n",
    "df['p'] = 1 / (1 + math.e**(-(2*mu)*df.s))\n",
    "df.head()"
   ]
  },
  {
   "cell_type": "code",
   "execution_count": 22,
   "metadata": {},
   "outputs": [
    {
     "data": {
      "text/plain": [
       "0.016476578953860448"
      ]
     },
     "execution_count": 22,
     "metadata": {},
     "output_type": "execute_result"
    }
   ],
   "source": [
    "N = df.shape[0] #size\n",
    "BS = 0.0\n",
    "\n",
    "for index, row in df.iterrows():\n",
    "    if (row.y == -mu):\n",
    "        BS += (row.p)**2\n",
    "    else:\n",
    "        BS += (row.p - 1)**2\n",
    "    \n",
    "BS = BS / N\n",
    "BS"
   ]
  },
  {
   "cell_type": "code",
   "execution_count": 23,
   "metadata": {},
   "outputs": [
    {
     "name": "stdout",
     "output_type": "stream",
     "text": [
      "0.016613827808822545\n"
     ]
    }
   ],
   "source": [
    "n = 1000 #iterations\n",
    "\n",
    "total_cost = 0\n",
    "for i in range(0, n):\n",
    "    c = np.random.random()\n",
    "    c0 = 2*c\n",
    "    c1 = 2*(1-c)    \n",
    "    df['pred_y'] = (df.p > c).astype(int)*2*mu - mu\n",
    "    fn = df.loc[(df.y == mu) & (df.pred_y != mu)].shape[0]  \n",
    "    fp = df.loc[(df.y != mu) & (df.pred_y == mu)].shape[0] \n",
    "    total_cost += fp*c0 + fn*c1\n",
    "    \n",
    "total_cost = total_cost/n/N\n",
    "print(total_cost)"
   ]
  },
  {
   "cell_type": "markdown",
   "metadata": {},
   "source": []
  }
 ],
 "metadata": {
  "kernelspec": {
   "display_name": "Python 3",
   "language": "python",
   "name": "python3"
  },
  "language_info": {
   "codemirror_mode": {
    "name": "ipython",
    "version": 3
   },
   "file_extension": ".py",
   "mimetype": "text/x-python",
   "name": "python",
   "nbconvert_exporter": "python",
   "pygments_lexer": "ipython3",
   "version": "3.6.4"
  }
 },
 "nbformat": 4,
 "nbformat_minor": 2
}
